{
 "cells": [
  {
   "cell_type": "markdown",
   "id": "b19cd4b4-6035-4fc0-b3d0-391a2c7239e6",
   "metadata": {},
   "source": [
    "# Java Keytool\n",
    "\n",
    "The `keytool` command is bundled with Java and has many options which are not always easy to remember.\n",
    "\n",
    "Included is a set of common tasks:\n",
    "\n",
    "- Generate a new Certificate Authority (CA)\n",
    "- Generate a new Server Certificate from the CA (TODO)\n",
    "- Generate a New Java Truststore (JKS) with an Existing CA\n",
    "- Import a .crt into a Custom Truststore (TODO)\n",
    "- Import `cacerts` into a Custom Truststore\n",
    "- \n",
    "  "
   ]
  },
  {
   "cell_type": "markdown",
   "id": "d5585784-f5c0-4235-a711-96366e9ca8db",
   "metadata": {},
   "source": [
    "## Initialize Secrets\n",
    "\n",
    "Initialize secrets from the local `.env` file:"
   ]
  },
  {
   "cell_type": "code",
   "execution_count": null,
   "id": "b06732f6-5682-45a2-8c05-bec9688480f9",
   "metadata": {},
   "outputs": [],
   "source": [
    "source .env\n",
    "echo $MY_SECRET"
   ]
  },
  {
   "cell_type": "markdown",
   "id": "dec74f14-eeeb-48e2-b7ce-09c92c002134",
   "metadata": {},
   "source": [
    "## Confirm the Java Installation\n",
    "\n",
    "Verify that a Java is present. If not, consider using [SDKMAN](https://sdkman.io/) as it will greatly simplify managing and updating Java. Java is currently on version 21 (if you are still on Java 8, please upgrade!)."
   ]
  },
  {
   "cell_type": "code",
   "execution_count": null,
   "id": "09ef6d84-9498-4a70-8550-9f9c0c1e3c08",
   "metadata": {},
   "outputs": [],
   "source": [
    "echo $JAVA_HOME"
   ]
  },
  {
   "cell_type": "code",
   "execution_count": null,
   "id": "6462e62f-4195-4bb7-b9e0-beba98a78f89",
   "metadata": {},
   "outputs": [],
   "source": [
    "java -version"
   ]
  },
  {
   "cell_type": "markdown",
   "id": "c3a2f437-86d0-4d9e-b9ec-202e2a3b1fda",
   "metadata": {},
   "source": [
    "Every Java installation comes with a CLI tool called `keytool`. This command is used to help generate and manage certificates, certificate authorities and passwords."
   ]
  },
  {
   "cell_type": "code",
   "execution_count": null,
   "id": "ef8c5590-231f-4858-982f-3af4b2e314a5",
   "metadata": {},
   "outputs": [],
   "source": [
    "keytool --help"
   ]
  },
  {
   "cell_type": "markdown",
   "id": "d6733cda-ead2-4c64-b34c-32d8a29a508f",
   "metadata": {},
   "source": [
    "## The Java `cacerts` Keystore\n",
    "\n",
    "Java comes bundled with a cacert file already populated with trusted certificate authorities (CA). This file can be inspected and have its contents listed to verify existing trusted CAs (trustedCertEntry). It is not usually recommended to modify this file as it could introduce a security vulnerability to Java - although in a corporate environment, it is possible that it has already been modified to include internal CAs used for intranet access.\n",
    "\n",
    "Note the default Java password is `changeit` as that may also have been changed by corporate IT."
   ]
  },
  {
   "cell_type": "code",
   "execution_count": null,
   "id": "5f7e27fc-8589-4d98-8c40-672f7e389043",
   "metadata": {},
   "outputs": [],
   "source": [
    "keytool -cacerts -storepass changeit -list"
   ]
  },
  {
   "cell_type": "markdown",
   "id": "952204ad-614e-4cbd-96b1-6b95787c0bb9",
   "metadata": {},
   "source": [
    "## Tasks"
   ]
  },
  {
   "cell_type": "markdown",
   "id": "06e841a5-db47-41c1-a28e-c6dfda6f35e7",
   "metadata": {},
   "source": [
    "### >> Generate a new Certificate Authority (CA)\n",
    "\n",
    "A certificate authority is what is used to sign certificates for server hosts.\n",
    "\n",
    "When configuring hosts within a private network, it is very common to use a self-signed certificate authority (or custom CA) to provision new host certificates. The `keytool` command can be used to create a new CA with the `genkeypair` option and automatically add it to a new Java key store:"
   ]
  },
  {
   "cell_type": "code",
   "execution_count": null,
   "id": "e56de2f9-25aa-421d-ae40-4f76cd372b03",
   "metadata": {},
   "outputs": [],
   "source": [
    "keytool -keystore ca-keystore.jks -storepass change1t -genkeypair -alias cn_undertree_private_key -keyalg RSA -keysize 2048 -validity 3650 -dname \"CN=UnderTree.io, OU=Home, O=Office, L=Cincinnati, S=OH, C=US\""
   ]
  },
  {
   "cell_type": "markdown",
   "id": "399cde9a-6b17-4d0f-a66c-d6d65a17b550",
   "metadata": {},
   "source": [
    "Confirm that the private key and certificate are contained in the new keystore using `list`:"
   ]
  },
  {
   "cell_type": "code",
   "execution_count": null,
   "id": "5552e7b5-eb98-4ce1-9fe0-43a9928092ec",
   "metadata": {},
   "outputs": [],
   "source": [
    "keytool -keystore ca-keystore.jks -storepass change1t -list"
   ]
  },
  {
   "cell_type": "markdown",
   "id": "48380037-562f-4517-a325-cff429a6fe8f",
   "metadata": {},
   "source": [
    "Export the public certificate of the CA (this is the file that can be imported into other truststores to accept server certificates later generated by this CA):"
   ]
  },
  {
   "cell_type": "code",
   "execution_count": null,
   "id": "7dd11d72-8c0b-4b7e-b2eb-7ec5c759c806",
   "metadata": {},
   "outputs": [],
   "source": [
    "keytool -keystore ca-keystore.jks -storepass change1t -exportcert -alias undertree-ca-key -file undertree-ca.crt"
   ]
  },
  {
   "cell_type": "code",
   "execution_count": null,
   "id": "56879395-2dff-44b6-8394-56c59aaf2b74",
   "metadata": {},
   "outputs": [],
   "source": [
    "keytool -printcert -file undertree-ca.crt"
   ]
  },
  {
   "cell_type": "code",
   "execution_count": null,
   "id": "4efac9af-3e76-4e27-a40b-5aca3dce72c9",
   "metadata": {},
   "outputs": [],
   "source": []
  },
  {
   "cell_type": "markdown",
   "id": "e4d09baa-2265-4f5c-8cae-02e39f1194dc",
   "metadata": {},
   "source": [
    "### >> Generate a New Java Truststore (JKS) with an Existing CA\n",
    "\n",
    "The following command will create a Java Key Store (JKS) file and import a certificate authority (CA) from the filesystem. This command uses `-noprompt` to avoid the console prompt to accept:"
   ]
  },
  {
   "cell_type": "code",
   "execution_count": null,
   "id": "8e92c35f-fce3-45f5-b345-0bbcaf9e18fc",
   "metadata": {},
   "outputs": [],
   "source": [
    "keytool -keystore local-truststore.jks -storepass change1t -importcert -trustcacerts -file undertree-ca.crt -alias cn_undertree_selfsigned_ca -noprompt"
   ]
  },
  {
   "cell_type": "markdown",
   "id": "289d5185-5956-4ead-9e5a-3f1c14c2902d",
   "metadata": {},
   "source": [
    "A new JKS file should have been created called `local-truststore.jks` with the `undertree-ca.crt` added as trustedCertEntity. This allows it to be used to validate any server presenting a certificate generated from the undertree-ca. Use the `-list` option to verify:"
   ]
  },
  {
   "cell_type": "code",
   "execution_count": null,
   "id": "30e3048a-43bf-4f29-9e6a-5146e74fa554",
   "metadata": {},
   "outputs": [],
   "source": [
    "keytool -keystore local-truststore.jks -storepass change1t -list "
   ]
  },
  {
   "cell_type": "markdown",
   "id": "49c08d18-0de3-457e-a5a6-324e32dffd62",
   "metadata": {},
   "source": [
    "Any Java application configured to use this truststore will allow connections to ONLY hosts that present certificates generated from the `cn_undertree_selfsigned_ca` (the `.crt` that was just imported)."
   ]
  },
  {
   "cell_type": "markdown",
   "id": "b1b92008-3b37-4011-85d9-83c679221275",
   "metadata": {},
   "source": [
    "## >> Import `cacerts` into the Local Truststore\n",
    "\n",
    "If desired, the default `cacerts` trusted cert entries can also be added to this local truststore. This would allow the application to also be able to connect hosts signed by any of the external trusted authorities:"
   ]
  },
  {
   "cell_type": "code",
   "execution_count": null,
   "id": "a41ad68f-29e7-47e6-8bce-8841d4a37daf",
   "metadata": {},
   "outputs": [],
   "source": [
    "keytool -importkeystore -srckeystore $JAVA_HOME/lib/security/cacerts -destkeystore local-truststore.jks -srcstorepass change1t -deststorepass change1t"
   ]
  },
  {
   "cell_type": "code",
   "execution_count": null,
   "id": "61837ee1-42e1-488d-926e-80f40e119219",
   "metadata": {},
   "outputs": [],
   "source": []
  },
  {
   "cell_type": "code",
   "execution_count": null,
   "id": "5ee0041d-cc1a-4470-aa58-240754d0c2fb",
   "metadata": {},
   "outputs": [],
   "source": [
    "# Example way to override any Java application\n",
    "java -Djavax.net.ssl.trustStore=/path/to/local-truststore.jks -Djavax.net.ssl.trustStorePassword=change1t -jar yourapp.jar"
   ]
  },
  {
   "cell_type": "code",
   "execution_count": null,
   "id": "2dedad7f-3c91-47ca-b12b-5bc436f9cc84",
   "metadata": {},
   "outputs": [],
   "source": []
  }
 ],
 "metadata": {
  "language_info": {
   "name": "bash"
  }
 },
 "nbformat": 4,
 "nbformat_minor": 5
}
