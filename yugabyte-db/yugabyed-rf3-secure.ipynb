{
 "cells": [
  {
   "cell_type": "markdown",
   "id": "5006be09-b868-4a55-a7da-f7c8c39dc238",
   "metadata": {},
   "source": [
    "# YugabyteDB: RF3 in Secure Mode\n",
    "\n",
    "__NOTE: This notebook requires the Bash Kernel__\n",
    "\n",
    "## Introduction\n",
    "\n",
    "There are multiple options available to run YugabyteDB locally.  For simple, single node use cases, Docker is an exceptionally good tool.  However, for multi-node enviornments, Docker can be a bit trickier to configure correctly due to network setup.\n",
    "\n",
    "The next option is to use the `yugabyted` command line tool outside Docker.  This tool is bundled with the YugabyteDB distribution and can be easily downloaded and unpacked to a local machine.  Typically, I recommend downloading the latest STS from the Yugabyte [downloads](https://download.yugabyte.com/#/) page.  Pick your preferred distribution (Mac or Linux) and download it with `curl`/`wget` as recommended and untar to a desired folder."
   ]
  },
  {
   "cell_type": "code",
   "execution_count": 9,
   "id": "5fae2ed0-6fd3-412c-b458-f6d33c7f3291",
   "metadata": {
    "jupyter": {
     "source_hidden": true
    }
   },
   "outputs": [
    {
     "name": "stdout",
     "output_type": "stream",
     "text": [
      "This is my secret, please don't upload it to GitHub!\n"
     ]
    }
   ],
   "source": [
    "# Initialize secrets from the local .env file here\n",
    "source .env\n",
    "echo $MY_SECRET"
   ]
  },
  {
   "cell_type": "code",
   "execution_count": 1,
   "id": "da0cab91-3f38-4351-8ef2-61a229771e4c",
   "metadata": {
    "collapsed": true,
    "jupyter": {
     "outputs_hidden": true
    }
   },
   "outputs": [
    {
     "name": "stdout",
     "output_type": "stream",
     "text": [
      "mkdir: cannot create directory ‘/home/lurtz/yugabyte’: File exists\n",
      "OpenSSL binary: ./bin/../bin/../bin/openssl\n",
      "FIPS module: ./bin/../bin/../lib/ossl-modules/fips.so\n",
      "HMAC : (Module_Integrity) : Pass\n",
      "SHA1 : (KAT_Digest) : Pass\n",
      "SHA2 : (KAT_Digest) : Pass\n",
      "SHA3 : (KAT_Digest) : Pass\n",
      "TDES : (KAT_Cipher) : Pass\n",
      "AES_GCM : (KAT_Cipher) : Pass\n",
      "AES_ECB_Decrypt : (KAT_Cipher) : Pass\n",
      "RSA : (KAT_Signature) : RNG : (Continuous_RNG_Test) : Pass\n",
      "Pass\n",
      "ECDSA : (PCT_Signature) : Pass\n",
      "ECDSA : (PCT_Signature) : Pass\n",
      "DSA : (PCT_Signature) : Pass\n",
      "TLS13_KDF_EXTRACT : (KAT_KDF) : Pass\n",
      "TLS13_KDF_EXPAND : (KAT_KDF) : Pass\n",
      "TLS12_PRF : (KAT_KDF) : Pass\n",
      "PBKDF2 : (KAT_KDF) : Pass\n",
      "SSHKDF : (KAT_KDF) : Pass\n",
      "KBKDF : (KAT_KDF) : Pass\n",
      "HKDF : (KAT_KDF) : Pass\n",
      "SSKDF : (KAT_KDF) : Pass\n",
      "X963KDF : (KAT_KDF) : Pass\n",
      "X942KDF : (KAT_KDF) : Pass\n",
      "HASH : (DRBG) : Pass\n",
      "CTR : (DRBG) : Pass\n",
      "HMAC : (DRBG) : Pass\n",
      "DH : (KAT_KA) : Pass\n",
      "ECDH : (KAT_KA) : Pass\n",
      "RSA_Encrypt : (KAT_AsymmetricCipher) : Pass\n",
      "RSA_Decrypt : (KAT_AsymmetricCipher) : Pass\n",
      "RSA_Decrypt : (KAT_AsymmetricCipher) : Pass\n",
      "INSTALL PASSED\n"
     ]
    }
   ],
   "source": [
    "mkdir ~/yugabyte; cd $_\n",
    "#wget https://downloads.yugabyte.com/releases/2024.1.3.0/yugabyte-2024.1.3.0-b105-linux-x86_64.tar.gz\n",
    "#tar xfz yugabyte-2024.1.3.0-b105-linux-x86_64.tar.gz\n",
    "cd yugabyte-2024.1.3.0/\n",
    "./bin/post_install.sh"
   ]
  },
  {
   "cell_type": "markdown",
   "id": "f2d03f73-37ae-4efc-9651-6c66c31f0a9b",
   "metadata": {},
   "source": [
    "## Validate the Installation\n",
    "\n",
    "Assuming the previous commands ran successfully, you should have downloaded and unpacked the YugabyteDB distribution.  The final `post_install.sh` script is used to validate the deployent. The last output line should read, `INSTALL PASSED`.\n",
    "\n",
    "Confirm the version running the `yugabyted` command with the `version` option:"
   ]
  },
  {
   "cell_type": "code",
   "execution_count": 2,
   "id": "b24bb1b2-f093-4b82-963f-8b387fa3cd27",
   "metadata": {
    "collapsed": true,
    "jupyter": {
     "outputs_hidden": true
    }
   },
   "outputs": [
    {
     "name": "stdout",
     "output_type": "stream",
     "text": [
      "\n",
      "----------------------------------------------------------------------\n",
      "|                              Version                               |\n",
      "----------------------------------------------------------------------\n",
      "| \u001b[33mVersion\u001b[0m        : 2024.1.3.0-b105                                   |\n",
      "| \u001b[33mBuild Time\u001b[0m     : 03 Oct 2024 18:48:31 UTC                          |\n",
      "| \u001b[33mBuild Hash\u001b[0m     : 0b04fe41caf79c06cfce56cd80731e072853fe3b          |\n",
      "----------------------------------------------------------------------\n",
      "\n"
     ]
    }
   ],
   "source": [
    "./bin/yugabyted version"
   ]
  },
  {
   "cell_type": "markdown",
   "id": "7e3f4c87-71d3-487c-a5b6-81a93d2c5809",
   "metadata": {},
   "source": [
    "## Create Certificates (Optional)\n",
    "\n",
    "To run locally with TLS (SSL) enabled, first create the certs for a 3 node REF cluster using [generate_server_certs](). This command will generate certs for each of the nodes using the IP address they will be running on.\n",
    "\n",
    "On Linux we will use multiple local 127.0.0.x hosts:"
   ]
  },
  {
   "cell_type": "code",
   "execution_count": 12,
   "id": "d7d11b52-5bcd-4c04-9587-151e9776eec9",
   "metadata": {
    "collapsed": true,
    "jupyter": {
     "outputs_hidden": true
    }
   },
   "outputs": [
    {
     "name": "stdout",
     "output_type": "stream",
     "text": [
      "\u001b[33m⚠ WARNING:\u001b[0m Hostnames \u001b[32m127.0.0.1,127.0.0.2,127.0.0.3\u001b[0m already have their certifcates generated according to root-ca certs database index. Please use the previously generated certs. Skipping these hostnames....\n",
      "\n",
      "+-----------------------------------------------------------------------------------------------------+\n",
      "|                                              \u001b[1m\u001b[32myugabyted\u001b[0m\u001b[0m                                              |\n",
      "+-----------------------------------------------------------------------------------------------------+\n",
      "| \u001b[33mStatus\u001b[0m                        : No certs generated. All hostnames already have certs generated.     |\n",
      "| \u001b[33mServer node certs path\u001b[0m        : Certs can be found at: /home/lurtz/var/generated_certs/<hostname>   |\n",
      "+-----------------------------------------------------------------------------------------------------+\n",
      "\n"
     ]
    }
   ],
   "source": [
    "./bin/yugabyted cert generate_server_certs --hostnames=127.0.0.1,127.0.0.2,127.0.0.3"
   ]
  },
  {
   "cell_type": "markdown",
   "id": "54982bbd-1e4f-4c6f-b13b-1da0ad4bfdc5",
   "metadata": {},
   "source": [
    "## Launch the first node\n",
    "\n",
    "Before we start the first node of the cluster, lets set up a few enviornment variables that will help with configuring the YugabyteDB processes.\n",
    "Review confiugration options here:\n",
    "\n",
    "* [YB Master config](https://docs.yugabyte.com/preview/reference/configuration/yb-master/)\n",
    "* [TServer config](https://docs.yugabyte.com/preview/reference/configuration/yb-tserver/)"
   ]
  },
  {
   "cell_type": "code",
   "execution_count": 19,
   "id": "b0f3260e-28a4-4c8a-9f46-3b599e90d7dc",
   "metadata": {},
   "outputs": [],
   "source": [
    "export MASTER_FLAGS=\"\"\n",
    "export TSERVER_FLAGS=\"yb_enable_read_committed_isolation=true\""
   ]
  },
  {
   "cell_type": "markdown",
   "id": "807884ac-66b9-47ff-a2a0-0ca09fea273d",
   "metadata": {},
   "source": [
    "For each of the three nodes we want to start, we use the `yugabyted` command with specific options to idenify each node (including the certs we generated earlier):"
   ]
  },
  {
   "cell_type": "code",
   "execution_count": 10,
   "id": "e97e009f-ed17-468c-a7fe-2d06e701ae49",
   "metadata": {
    "collapsed": true,
    "jupyter": {
     "outputs_hidden": true
    }
   },
   "outputs": [
    {
     "name": "stdout",
     "output_type": "stream",
     "text": [
      "Starting yugabyted...\n",
      "✅ YugabyteDB Started                  \n",
      "✅ Encryption in Transit and Password Authentication enabled    \n",
      "✅ UI ready         \n",
      "✅ Data placement constraint successfully verified                 \n",
      "\n",
      "\u001b[33m⚠ WARNINGS\u001b[0m:\n",
      "- Transparent hugepages disabled. Please enable transparent_hugepages.\n",
      "\n",
      "Please review the following docs and rerun the start command:\n",
      "- Quick start for Linux: \u001b[4mhttps://docs.yugabyte.com/preview/quick-start/linux/\u001b[0m\n",
      "\n",
      "+-------------------------------------------------------------------------------------------------------------+\n",
      "|                                                  \u001b[1m\u001b[32myugabyted\u001b[0m\u001b[0m                                                  |\n",
      "+-------------------------------------------------------------------------------------------------------------+\n",
      "| \u001b[33mStatus\u001b[0m              : Running.                                                                              |\n",
      "| \u001b[33mReplication Factor\u001b[0m  : 1                                                                                     |\n",
      "| \u001b[33mSecurity Features\u001b[0m   : Encryption-in-transit, Password Authentication                                        |\n",
      "| \u001b[33mYugabyteDB UI\u001b[0m       : http://127.0.0.1:15433                                                                |\n",
      "| \u001b[33mJDBC\u001b[0m                : jdbc:postgresql://127.0.0.1:5433/yugabyte?user=yugabyte&password=\u001b[36m<DB_PASSWORD>\u001b[0m        |\n",
      "| \u001b[33mYSQL\u001b[0m                : bin/ysqlsh   -U yugabyte -d yugabyte                                                  |\n",
      "| \u001b[33mYCQL\u001b[0m                : bin/ycqlsh   -u cassandra --ssl                                                       |\n",
      "| \u001b[33mData Dir\u001b[0m            : /home/lurtz/var/ybd-gcp1/data                                                         |\n",
      "| \u001b[33mLog Dir\u001b[0m             : /home/lurtz/var/ybd-gcp1/logs                                                         |\n",
      "| \u001b[33mUniverse UUID\u001b[0m       : f250ee44-b9fe-4203-b2b3-25818f385b18                                                  |\n",
      "+-------------------------------------------------------------------------------------------------------------+\n",
      "🚀 YugabyteDB started successfully! To load a sample dataset, try 'yugabyted demo'.\n",
      "🎉 Join us on Slack at \u001b[4mhttps://www.yugabyte.com/slack\u001b[0m\n",
      "👕 Claim your free t-shirt at \u001b[4mhttps://www.yugabyte.com/community-rewards/\u001b[0m\n",
      "\n",
      "\u001b[36mDB_PASSWORD\u001b[0m is saved in the \u001b[36mCredentials File\u001b[0m.\n",
      "\u001b[36mCredentials File\u001b[0m is stored at /home/lurtz/var/ybd-gcp1/data/yugabyted_credentials.txt\n",
      "\n"
     ]
    }
   ],
   "source": [
    "export CERTS_DIR=\"~/var/generated_certs/127.0.0.1/\"\n",
    "yugabyted start --advertise_address=127.0.0.1 --base_dir=~/var/ybd-gcp1 --cloud_location=gcp.us-east1.us-east1-c --secure --certs_dir=\"${CERTS_DIR}\" --tserver_flags \"${TSERVER_FLAGS}\""
   ]
  },
  {
   "cell_type": "markdown",
   "id": "0b8f2e6d-8d90-43ac-86f1-97fbc801c90e",
   "metadata": {},
   "source": [
    "## Retrieve the generated password\n",
    "\n",
    "Take special note of the last line of the `yugabyted` output as it indicates where to find the generated password. Echo it out to the console:"
   ]
  },
  {
   "cell_type": "code",
   "execution_count": 18,
   "id": "45598325-65e4-45ac-91e9-2b9981aa0518",
   "metadata": {},
   "outputs": [
    {
     "name": "stdout",
     "output_type": "stream",
     "text": [
      "YSQL Credentials:\n",
      "Username: yugabyte\n",
      "Password: URYuo4eeQ2qM\n",
      "Database: yugabyte\n",
      "\n",
      "YCQL Credentials:\n",
      "Username: cassandra\n",
      "Password: URYuo4eeQ2qM\n",
      "Keyspace: None\n"
     ]
    }
   ],
   "source": [
    "cat /home/lurtz/var/ybd-gcp1/data/yugabyted_credentials.txt"
   ]
  },
  {
   "cell_type": "code",
   "execution_count": 11,
   "id": "563dde6b-06a6-45cf-9a19-6c02db2a056f",
   "metadata": {
    "collapsed": true,
    "jupyter": {
     "outputs_hidden": true
    }
   },
   "outputs": [
    {
     "name": "stdout",
     "output_type": "stream",
     "text": [
      "Fetching configs from join IP...\n",
      "Starting yugabyted...\n",
      "✅ YugabyteDB Started                  \n",
      "✅ Node joined a running cluster with UUID f250ee44-b9fe-4203-b2b3-25818f385b18\n",
      "✅ Encryption in Transit and Password Authentication enabled    \n",
      "✅ UI ready         \n",
      "✅ Data placement constraint successfully verified                 \n",
      "\n",
      "\u001b[33m⚠ WARNINGS\u001b[0m:\n",
      "- Transparent hugepages disabled. Please enable transparent_hugepages.\n",
      "\n",
      "Please review the following docs and rerun the start command:\n",
      "- Quick start for Linux: \u001b[4mhttps://docs.yugabyte.com/preview/quick-start/linux/\u001b[0m\n",
      "\n",
      "+-------------------------------------------------------------------------------------------------------------+\n",
      "|                                                  \u001b[1m\u001b[32myugabyted\u001b[0m\u001b[0m                                                  |\n",
      "+-------------------------------------------------------------------------------------------------------------+\n",
      "| \u001b[33mStatus\u001b[0m              : Running.                                                                              |\n",
      "| \u001b[33mReplication Factor\u001b[0m  : 1                                                                                     |\n",
      "| \u001b[33mSecurity Features\u001b[0m   : Encryption-in-transit, Password Authentication                                        |\n",
      "| \u001b[33mWeb console\u001b[0m         : http://127.0.0.2:7000                                                                 |\n",
      "| \u001b[33mJDBC\u001b[0m                : jdbc:postgresql://127.0.0.2:5433/yugabyte?user=yugabyte&password=\u001b[36m<DB_PASSWORD>\u001b[0m        |\n",
      "| \u001b[33mYSQL\u001b[0m                : bin/ysqlsh -h 127.0.0.2  -U yugabyte -d yugabyte                                      |\n",
      "| \u001b[33mYCQL\u001b[0m                : bin/ycqlsh 127.0.0.2 9042 -u cassandra --ssl                                          |\n",
      "| \u001b[33mData Dir\u001b[0m            : /home/lurtz/var/ybd-gcp2/data                                                         |\n",
      "| \u001b[33mLog Dir\u001b[0m             : /home/lurtz/var/ybd-gcp2/logs                                                         |\n",
      "| \u001b[33mUniverse UUID\u001b[0m       : f250ee44-b9fe-4203-b2b3-25818f385b18                                                  |\n",
      "+-------------------------------------------------------------------------------------------------------------+\n",
      "🚀 YugabyteDB started successfully! To load a sample dataset, try 'yugabyted demo'.\n",
      "🎉 Join us on Slack at \u001b[4mhttps://www.yugabyte.com/slack\u001b[0m\n",
      "👕 Claim your free t-shirt at \u001b[4mhttps://www.yugabyte.com/community-rewards/\u001b[0m\n",
      "\n",
      "\u001b[36mDB_PASSWORD\u001b[0m is saved in the \u001b[36mCredentials File\u001b[0m which has been generated on the 1st node.\n",
      "\n"
     ]
    }
   ],
   "source": [
    "export CERTS_DIR=\"~/var/generated_certs/127.0.0.2/\"\n",
    "yugabyted start --advertise_address=127.0.0.2 --base_dir=~/var/ybd-gcp2 --cloud_location=gcp.us-east1.us-east1-d --secure --certs_dir=\"${CERTS_DIR}\" --tserver_flags \"${TSERVER_FLAGS}\" --join=127.0.0.1"
   ]
  },
  {
   "cell_type": "code",
   "execution_count": 12,
   "id": "21ba2b86-32b5-4d56-a705-b0876d5e19e3",
   "metadata": {
    "collapsed": true,
    "jupyter": {
     "outputs_hidden": true
    }
   },
   "outputs": [
    {
     "name": "stdout",
     "output_type": "stream",
     "text": [
      "Fetching configs from join IP...\n",
      "Starting yugabyted...\n",
      "✅ YugabyteDB Started                  \n",
      "✅ Node joined a running cluster with UUID f250ee44-b9fe-4203-b2b3-25818f385b18\n",
      "✅ Encryption in Transit and Password Authentication enabled    \n",
      "✅ UI ready         \n",
      "✅ Data placement constraint successfully verified                 \n",
      "\n",
      "\u001b[33m⚠ WARNINGS\u001b[0m:\n",
      "- Transparent hugepages disabled. Please enable transparent_hugepages.\n",
      "\n",
      "Please review the following docs and rerun the start command:\n",
      "- Quick start for Linux: \u001b[4mhttps://docs.yugabyte.com/preview/quick-start/linux/\u001b[0m\n",
      "\n",
      "+-------------------------------------------------------------------------------------------------------------+\n",
      "|                                                  \u001b[1m\u001b[32myugabyted\u001b[0m\u001b[0m                                                  |\n",
      "+-------------------------------------------------------------------------------------------------------------+\n",
      "| \u001b[33mStatus\u001b[0m              : Running.                                                                              |\n",
      "| \u001b[33mReplication Factor\u001b[0m  : 3                                                                                     |\n",
      "| \u001b[33mSecurity Features\u001b[0m   : Encryption-in-transit, Password Authentication                                        |\n",
      "| \u001b[33mWeb console\u001b[0m         : http://127.0.0.3:7000                                                                 |\n",
      "| \u001b[33mJDBC\u001b[0m                : jdbc:postgresql://127.0.0.3:5433/yugabyte?user=yugabyte&password=\u001b[36m<DB_PASSWORD>\u001b[0m        |\n",
      "| \u001b[33mYSQL\u001b[0m                : bin/ysqlsh -h 127.0.0.3  -U yugabyte -d yugabyte                                      |\n",
      "| \u001b[33mYCQL\u001b[0m                : bin/ycqlsh 127.0.0.3 9042 -u cassandra --ssl                                          |\n",
      "| \u001b[33mData Dir\u001b[0m            : /home/lurtz/var/ybd-gcp3/data                                                         |\n",
      "| \u001b[33mLog Dir\u001b[0m             : /home/lurtz/var/ybd-gcp3/logs                                                         |\n",
      "| \u001b[33mUniverse UUID\u001b[0m       : f250ee44-b9fe-4203-b2b3-25818f385b18                                                  |\n",
      "+-------------------------------------------------------------------------------------------------------------+\n",
      "🚀 YugabyteDB started successfully! To load a sample dataset, try 'yugabyted demo'.\n",
      "🎉 Join us on Slack at \u001b[4mhttps://www.yugabyte.com/slack\u001b[0m\n",
      "👕 Claim your free t-shirt at \u001b[4mhttps://www.yugabyte.com/community-rewards/\u001b[0m\n",
      "\n",
      "\u001b[36mDB_PASSWORD\u001b[0m is saved in the \u001b[36mCredentials File\u001b[0m which has been generated on the 1st node.\n",
      "\n"
     ]
    }
   ],
   "source": [
    "export CERTS_DIR=\"~/var/generated_certs/127.0.0.3/\"\n",
    "yugabyted start --advertise_address=127.0.0.3 --base_dir=~/var/ybd-gcp3 --cloud_location=gcp.us-east1.us-east1-f --secure --certs_dir=\"${CERTS_DIR}\" --tserver_flags \"${TSERVER_FLAGS}\" --join=127.0.0.1"
   ]
  },
  {
   "cell_type": "code",
   "execution_count": 13,
   "id": "29dab4f0-3e5f-40bd-8fb7-4b2d4f5971c8",
   "metadata": {},
   "outputs": [
    {
     "name": "stdout",
     "output_type": "stream",
     "text": [
      "\u001b[2Ktching status...\n",
      "+-------------------------------------------------------------------------------------------------------------+\n",
      "|                                                  \u001b[1m\u001b[32myugabyted\u001b[0m\u001b[0m                                                  |\n",
      "+-------------------------------------------------------------------------------------------------------------+\n",
      "| \u001b[33mStatus\u001b[0m              : Running.                                                                              |\n",
      "| \u001b[33mReplication Factor\u001b[0m  : 3                                                                                     |\n",
      "| \u001b[33mSecurity Features\u001b[0m   : Encryption-in-transit, Password Authentication                                        |\n",
      "| \u001b[33mYugabyteDB UI\u001b[0m       : http://127.0.0.1:15433                                                                |\n",
      "| \u001b[33mJDBC\u001b[0m                : jdbc:postgresql://127.0.0.1:5433/yugabyte?user=yugabyte&password=\u001b[36m<DB_PASSWORD>\u001b[0m        |\n",
      "| \u001b[33mYSQL\u001b[0m                : bin/ysqlsh   -U yugabyte -d yugabyte                                                  |\n",
      "| \u001b[33mYCQL\u001b[0m                : bin/ycqlsh   -u cassandra --ssl                                                       |\n",
      "| \u001b[33mData Dir\u001b[0m            : /home/lurtz/var/ybd-gcp1/data                                                         |\n",
      "| \u001b[33mLog Dir\u001b[0m             : /home/lurtz/var/ybd-gcp1/logs                                                         |\n",
      "| \u001b[33mUniverse UUID\u001b[0m       : f250ee44-b9fe-4203-b2b3-25818f385b18                                                  |\n",
      "+-------------------------------------------------------------------------------------------------------------+\n"
     ]
    }
   ],
   "source": [
    "yugabyted status --base_dir=~/var/ybd-gcp1"
   ]
  },
  {
   "cell_type": "code",
   "execution_count": null,
   "id": "e2ac475b-155a-401f-8b2a-4f78de5bbcdc",
   "metadata": {},
   "outputs": [],
   "source": []
  },
  {
   "cell_type": "code",
   "execution_count": null,
   "id": "3fe56936-aaf3-49e1-9b06-1241064044eb",
   "metadata": {},
   "outputs": [],
   "source": []
  },
  {
   "cell_type": "code",
   "execution_count": null,
   "id": "df8ba100-1bf6-47aa-a492-a053288dd4b2",
   "metadata": {},
   "outputs": [],
   "source": []
  },
  {
   "cell_type": "code",
   "execution_count": null,
   "id": "c1f27b96-e4c6-4f65-8afb-f525bc9019d9",
   "metadata": {},
   "outputs": [
    {
     "name": "stdout",
     "output_type": "stream",
     "text": [
      "Command 'from' not found, but can be installed with:\n",
      "sudo apt install mailutils\n"
     ]
    }
   ],
   "source": []
  },
  {
   "cell_type": "markdown",
   "id": "01d9ffbd-e3e5-4700-9ff8-8db4597bd9e0",
   "metadata": {},
   "source": [
    "## Generate a new Java Trust Store (JKS)\n",
    "\n",
    "For Java, use the `keytool` command (it should be bundled with the Java installation). The following command will create a new trust store (a special file) and import the root certificate authority (CA) from the orignal generated certs."
   ]
  },
  {
   "cell_type": "code",
   "execution_count": 23,
   "id": "f79e169e-aedb-406a-8340-e48e9bc048f2",
   "metadata": {},
   "outputs": [
    {
     "name": "stdout",
     "output_type": "stream",
     "text": [
      "Certificate was added to keystore\n"
     ]
    }
   ],
   "source": [
    "keytool -importcert -trustcacerts -file ~/var/generated_certs/root-ca/ca.crt -alias yuabyteCA -keystore yugabyte.jks -storepass change1t -noprompt"
   ]
  },
  {
   "cell_type": "markdown",
   "id": "d457c930-266a-438d-b599-2378905d6cc6",
   "metadata": {},
   "source": [
    "Tecnically, you have a common truststore that is generically used by Java that contains standard CAs but since the CA we generated earlier is local and will probably be thrown away at some point, it is easier (and cleaner) to just keep a separate truststore for this specific use case."
   ]
  },
  {
   "cell_type": "code",
   "execution_count": 24,
   "id": "980b15ff-6917-4c3a-86b2-75165750184d",
   "metadata": {},
   "outputs": [
    {
     "name": "stdout",
     "output_type": "stream",
     "text": [
      "Keystore type: PKCS12\n",
      "Keystore provider: SUN\n",
      "\n",
      "Your keystore contains 1 entry\n",
      "\n",
      "yuabyteca, Oct 24, 2024, trustedCertEntry, \n",
      "Certificate fingerprint (SHA-256): 7A:71:63:2E:FC:6B:6F:3E:70:AD:28:FF:E8:E2:CB:AB:EE:36:BB:0F:01:68:B7:15:5A:F5:D8:62:BA:0A:78:98\n"
     ]
    }
   ],
   "source": [
    "keytool -list -keystore yugabyte.jks -storepass change1t"
   ]
  },
  {
   "cell_type": "code",
   "execution_count": 4,
   "id": "2f5f22e2-05ff-4f12-8f2f-7efcefc4ed30",
   "metadata": {},
   "outputs": [
    {
     "name": "stdout",
     "output_type": "stream",
     "text": [
      "This is a secret, don't upload it to GitHub\n"
     ]
    }
   ],
   "source": []
  },
  {
   "cell_type": "code",
   "execution_count": null,
   "id": "550d3fe5-1684-443e-a995-47beb4e14b5b",
   "metadata": {},
   "outputs": [],
   "source": []
  }
 ],
 "metadata": {
  "kernelspec": {
   "display_name": "Bash",
   "language": "bash",
   "name": "bash"
  },
  "language_info": {
   "codemirror_mode": "shell",
   "file_extension": ".sh",
   "mimetype": "text/x-sh",
   "name": "bash"
  }
 },
 "nbformat": 4,
 "nbformat_minor": 5
}
