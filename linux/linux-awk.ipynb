{
 "cells": [
  {
   "cell_type": "markdown",
   "id": "3b34ced5-530c-4c5f-bef4-7337629232b6",
   "metadata": {},
   "source": [
    "# Awk\n",
    "\n",
    "Notebook for `awk` and its various features. Awk is good for text processing and data extraction from text files and data streams."
   ]
  },
  {
   "cell_type": "code",
   "execution_count": null,
   "id": "666f818b-1869-4886-beac-b1c8ae58cc99",
   "metadata": {},
   "outputs": [],
   "source": [
    "awk"
   ]
  },
  {
   "cell_type": "code",
   "execution_count": null,
   "id": "7b2d9545-c1ab-4977-85e6-b541f42909da",
   "metadata": {},
   "outputs": [],
   "source": []
  }
 ],
 "metadata": {
  "language_info": {
   "name": "bash"
  }
 },
 "nbformat": 4,
 "nbformat_minor": 5
}
