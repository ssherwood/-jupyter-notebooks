{
 "cells": [
  {
   "cell_type": "markdown",
   "id": "f93cef81-f3ca-4224-aa9d-ad77801a2e31",
   "metadata": {},
   "source": [
    "# Linux General Commands\n",
    "\n",
    "Notebook for general helpful Unix commands."
   ]
  },
  {
   "cell_type": "code",
   "execution_count": null,
   "id": "4e98ee65-5585-49e7-9b58-3add84100219",
   "metadata": {},
   "outputs": [],
   "source": []
  }
 ],
 "metadata": {
  "language_info": {
   "name": "bash"
  }
 },
 "nbformat": 4,
 "nbformat_minor": 5
}
