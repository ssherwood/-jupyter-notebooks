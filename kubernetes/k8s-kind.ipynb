{
 "cells": [
  {
   "cell_type": "markdown",
   "id": "58072c9e-eb0c-46a4-bf62-e71692cb2169",
   "metadata": {},
   "source": [
    "# Kind\n",
    "\n",
    "https://kind.sigs.k8s.io/\n",
    "https://kind.sigs.k8s.io/docs/user/quick-start/\n"
   ]
  }
 ],
 "metadata": {
  "language_info": {
   "name": "bash"
  }
 },
 "nbformat": 4,
 "nbformat_minor": 5
}
